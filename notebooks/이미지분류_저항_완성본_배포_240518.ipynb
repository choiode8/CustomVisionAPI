{
  "cells": [
    {
      "cell_type": "code",
      "execution_count": 3,
      "metadata": {
        "colab": {
          "base_uri": "https://localhost:8080/"
        },
        "id": "kNvYPMw4kb0G",
        "outputId": "bfe81f93-800a-4027-8206-cbdb72160ad9"
      },
      "outputs": [
        {
          "name": "stdout",
          "output_type": "stream",
          "text": [
            "Requirement already satisfied: azure-cognitiveservices-vision-customvision in /usr/local/python/3.10.13/lib/python3.10/site-packages (3.1.0)\n",
            "Requirement already satisfied: msrest>=0.5.0 in /usr/local/python/3.10.13/lib/python3.10/site-packages (from azure-cognitiveservices-vision-customvision) (0.7.1)\n",
            "Requirement already satisfied: azure-common~=1.1 in /usr/local/python/3.10.13/lib/python3.10/site-packages (from azure-cognitiveservices-vision-customvision) (1.1.28)\n",
            "Requirement already satisfied: azure-core>=1.24.0 in /usr/local/python/3.10.13/lib/python3.10/site-packages (from msrest>=0.5.0->azure-cognitiveservices-vision-customvision) (1.30.1)\n",
            "Requirement already satisfied: certifi>=2017.4.17 in /home/codespace/.local/lib/python3.10/site-packages (from msrest>=0.5.0->azure-cognitiveservices-vision-customvision) (2024.2.2)\n",
            "Requirement already satisfied: isodate>=0.6.0 in /usr/local/python/3.10.13/lib/python3.10/site-packages (from msrest>=0.5.0->azure-cognitiveservices-vision-customvision) (0.6.1)\n",
            "Requirement already satisfied: requests-oauthlib>=0.5.0 in /usr/local/python/3.10.13/lib/python3.10/site-packages (from msrest>=0.5.0->azure-cognitiveservices-vision-customvision) (2.0.0)\n",
            "Requirement already satisfied: requests~=2.16 in /home/codespace/.local/lib/python3.10/site-packages (from msrest>=0.5.0->azure-cognitiveservices-vision-customvision) (2.31.0)\n",
            "Requirement already satisfied: six>=1.11.0 in /home/codespace/.local/lib/python3.10/site-packages (from azure-core>=1.24.0->msrest>=0.5.0->azure-cognitiveservices-vision-customvision) (1.16.0)\n",
            "Requirement already satisfied: typing-extensions>=4.6.0 in /home/codespace/.local/lib/python3.10/site-packages (from azure-core>=1.24.0->msrest>=0.5.0->azure-cognitiveservices-vision-customvision) (4.11.0)\n",
            "Requirement already satisfied: charset-normalizer<4,>=2 in /home/codespace/.local/lib/python3.10/site-packages (from requests~=2.16->msrest>=0.5.0->azure-cognitiveservices-vision-customvision) (3.3.2)\n",
            "Requirement already satisfied: idna<4,>=2.5 in /home/codespace/.local/lib/python3.10/site-packages (from requests~=2.16->msrest>=0.5.0->azure-cognitiveservices-vision-customvision) (3.7)\n",
            "Requirement already satisfied: urllib3<3,>=1.21.1 in /usr/local/python/3.10.13/lib/python3.10/site-packages (from requests~=2.16->msrest>=0.5.0->azure-cognitiveservices-vision-customvision) (2.0.7)\n",
            "Requirement already satisfied: oauthlib>=3.0.0 in /usr/local/python/3.10.13/lib/python3.10/site-packages (from requests-oauthlib>=0.5.0->msrest>=0.5.0->azure-cognitiveservices-vision-customvision) (3.2.2)\n"
          ]
        }
      ],
      "source": [
        "#파이썬 azure-cognitiveservices-vision-customvision 패키지를 설치\n",
        "##Python에서 Azure Custom Vision 서비스를 쉽게 사용할 수 있는 라이브러리\n",
        "!pip install azure-cognitiveservices-vision-customvision\n"
      ]
    },
    {
      "cell_type": "code",
      "execution_count": 7,
      "metadata": {
        "id": "DCPDdwVvv_Sy"
      },
      "outputs": [],
      "source": [
        "#CustomVisionPredictionClient : Azure Custom Vision 서비스를 위한 클라이언트 라이브러리\n",
        "#ApiKeyCredentials :인증에 필요한 라이브러리\n",
        "\n",
        "from azure.cognitiveservices.vision.customvision.prediction import CustomVisionPredictionClient\n",
        "from msrest.authentication import ApiKeyCredentials\n"
      ]
    },
    {
      "cell_type": "code",
      "execution_count": 8,
      "metadata": {
        "id": "wVxObShSwJ36"
      },
      "outputs": [],
      "source": [
        "#예측 키와 엔드포인트 URL 설정\n",
        "##prediction_key : 서비스에 액세스하기 위한 키\n",
        "\n",
        "prediction_key = \"55bf2ed01825441a9b775c789a12d1c6\"\n",
        "endpoint = \"https://t700rs-prediction.cognitiveservices.azure.com/\"\n",
        "project_id = \"b798cb96-95e9-47a8-8892-2d39bb6bf9c4\"\n",
        "publish_iteration_name = \"Iteration1\"\n"
      ]
    },
    {
      "cell_type": "code",
      "execution_count": 9,
      "metadata": {
        "colab": {
          "base_uri": "https://localhost:8080/"
        },
        "id": "Mkb4FS9okpg_",
        "outputId": "48378567-23f6-432b-aac4-34323cceba7a"
      },
      "outputs": [
        {
          "name": "stdout",
          "output_type": "stream",
          "text": [
            "Tag: 10k, Probability: 0.73\n",
            "Tag: 220, Probability: 0.27\n"
          ]
        }
      ],
      "source": [
        "# 예측 클라이언트 생성\n",
        "credentials = ApiKeyCredentials(in_headers={\"Prediction-key\": prediction_key})\n",
        "predictor = CustomVisionPredictionClient(endpoint, credentials)\n",
        "\n",
        "path_to_your_image = \"10k-ohm-Test(2).jpg\"\n",
        "\n",
        "\n",
        "#이미지 읽고 CustomVisionPredictionClient의 classify_image 메서드에 전달하여 이미지를 분류\n",
        "with open(path_to_your_image, \"rb\") as image_contents:\n",
        "  results = predictor.classify_image(project_id, publish_iteration_name, image_contents.read())\n",
        "\n",
        "\n",
        "# 예측 결과 출력\n",
        "for prediction in results.predictions:\n",
        "    print(f\"Tag: {prediction.tag_name}, Probability: {prediction.probability:.2f}\")"
      ]
    }
  ],
  "metadata": {
    "colab": {
      "provenance": []
    },
    "kernelspec": {
      "display_name": "Python 3",
      "name": "python3"
    },
    "language_info": {
      "codemirror_mode": {
        "name": "ipython",
        "version": 3
      },
      "file_extension": ".py",
      "mimetype": "text/x-python",
      "name": "python",
      "nbconvert_exporter": "python",
      "pygments_lexer": "ipython3",
      "version": "3.10.13"
    }
  },
  "nbformat": 4,
  "nbformat_minor": 0
}
